{
 "cells": [
  {
   "cell_type": "code",
   "execution_count": 4,
   "metadata": {
    "collapsed": true
   },
   "outputs": [],
   "source": [
    "from uncertainty_to_string import uncertainty_to_string as unc"
   ]
  },
  {
   "cell_type": "code",
   "execution_count": null,
   "metadata": {
    "collapsed": false
   },
   "outputs": [],
   "source": []
  },
  {
   "cell_type": "code",
   "execution_count": null,
   "metadata": {
    "collapsed": false
   },
   "outputs": [],
   "source": []
  },
  {
   "cell_type": "code",
   "execution_count": 5,
   "metadata": {
    "collapsed": false
   },
   "outputs": [
    {
     "name": "stdout",
     "output_type": "stream",
     "text": [
      "Full value:  123.456\n",
      "Uncertainty: 0.012\n",
      "Compact (prec=0): 123.5(0)\n",
      "Compact (prec=1): 123.46(1)\n",
      "Compact (prec=2): 123.456(12)\n",
      "Compact (prec=3): 123.4560(120)\n"
     ]
    }
   ],
   "source": [
    "val = 123.456\n",
    "err = 0.012\n",
    "\n",
    "print(\"Full value:  {}\".format(val))\n",
    "print(\"Uncertainty: {}\".format(err))\n",
    "print(\"Compact (prec=0): {}\".format(unc(val,err,0)))\n",
    "print(\"Compact (prec=1): {}\".format(unc(val,err,1)))\n",
    "print(\"Compact (prec=2): {}\".format(unc(val,err,2)))\n",
    "print(\"Compact (prec=3): {}\".format(unc(val,err,3)))"
   ]
  },
  {
   "cell_type": "code",
   "execution_count": 6,
   "metadata": {
    "collapsed": false
   },
   "outputs": [
    {
     "name": "stdout",
     "output_type": "stream",
     "text": [
      "Full value:  123456.789\n",
      "Uncertainty: 473\n",
      "Compact (prec=0): 123000(0)\n",
      "Compact (prec=1): 1.235(5)e5\n",
      "Compact (prec=2): 123460(470)\n",
      "Compact (prec=3): 123457(473)\n"
     ]
    }
   ],
   "source": [
    "val = 123456.789\n",
    "err = 473\n",
    "\n",
    "print(\"Full value:  {}\".format(val))\n",
    "print(\"Uncertainty: {}\".format(err))\n",
    "print(\"Compact (prec=0): {}\".format(unc(val,err,0)))\n",
    "print(\"Compact (prec=1): {}\".format(unc(val,err,1)))\n",
    "print(\"Compact (prec=2): {}\".format(unc(val,err,2)))\n",
    "print(\"Compact (prec=3): {}\".format(unc(val,err,3)))"
   ]
  },
  {
   "cell_type": "code",
   "execution_count": null,
   "metadata": {
    "collapsed": true
   },
   "outputs": [],
   "source": []
  }
 ],
 "metadata": {
  "anaconda-cloud": {},
  "kernelspec": {
   "display_name": "Python [default]",
   "language": "python",
   "name": "python3"
  },
  "language_info": {
   "codemirror_mode": {
    "name": "ipython",
    "version": 3
   },
   "file_extension": ".py",
   "mimetype": "text/x-python",
   "name": "python",
   "nbconvert_exporter": "python",
   "pygments_lexer": "ipython3",
   "version": "3.5.2"
  }
 },
 "nbformat": 4,
 "nbformat_minor": 0
}
